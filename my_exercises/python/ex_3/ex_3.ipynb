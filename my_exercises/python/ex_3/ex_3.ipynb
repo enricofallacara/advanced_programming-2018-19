{
 "cells": [
  {
   "cell_type": "code",
   "execution_count": 1,
   "metadata": {},
   "outputs": [],
   "source": [
    "class MyRange():     \n",
    "    def __init__(self, stop, start=0, step=1):\n",
    "        self.range = range(start, stop, step)\n",
    "\n",
    "def myrange(*args):\n",
    "        n_args=len(args)\n",
    "        if n_args not in range(1,4):\n",
    "            raise TypeError(\"my range has the following paramenters: myrange(stop, opt start=0, opt step=1)\")\n",
    "        if n_args==1:\n",
    "            return MyRange(args[0]).range\n",
    "        elif n_args==2:\n",
    "            return MyRange(args[1],args[0]).range\n",
    "        elif n_args==3:\n",
    "            return MyRange(args[1],args[0],args[2]).range"
   ]
  },
  {
   "cell_type": "code",
   "execution_count": 2,
   "metadata": {},
   "outputs": [
    {
     "name": "stdout",
     "output_type": "stream",
     "text": [
      "0\n",
      "1\n",
      "2\n",
      "----------\n",
      "3\n",
      "4\n",
      "5\n",
      "----------\n",
      "6\n",
      "8\n",
      "10\n"
     ]
    }
   ],
   "source": [
    "\n",
    "for i in myrange(3):\n",
    "    print(i)\n",
    "    \n",
    "print(\"----------\")\n",
    "\n",
    "for i in myrange(3,6):\n",
    "    print(i)\n",
    "    \n",
    "print(\"----------\")\n",
    "\n",
    "for i in myrange(6,12,2):\n",
    "    print(i)\n",
    "    "
   ]
  },
  {
   "cell_type": "code",
   "execution_count": 3,
   "metadata": {},
   "outputs": [
    {
     "name": "stdout",
     "output_type": "stream",
     "text": [
      "The time that it takes to execute these instruction is:  0.8631236553192139\n",
      "The result is equal to:  999999000000\n"
     ]
    }
   ],
   "source": [
    "import time\n",
    "\n",
    "class Timer:\n",
    "    def __enter__(self):\n",
    "        self.start = time.time()\n",
    "    def __exit__(self, exc_type, exc_value, traceback):\n",
    "        self.end = time.time()\n",
    "        print(\"The time that it takes to execute these instruction is: \", self.end-self.start)\n",
    "        \n",
    "a = range(1000000)\n",
    "s = 0\n",
    "with Timer() as timer:\n",
    "    for i in a:\n",
    "        s += i*2\n",
    "\n",
    "print(\"The result is equal to: \",s)\n",
    "\n",
    "\n",
    "\n",
    "        "
   ]
  }
 ],
 "metadata": {
  "kernelspec": {
   "display_name": "Python 3",
   "language": "python",
   "name": "python3"
  },
  "language_info": {
   "codemirror_mode": {
    "name": "ipython",
    "version": 3
   },
   "file_extension": ".py",
   "mimetype": "text/x-python",
   "name": "python",
   "nbconvert_exporter": "python",
   "pygments_lexer": "ipython3",
   "version": "3.7.0"
  }
 },
 "nbformat": 4,
 "nbformat_minor": 2
}
